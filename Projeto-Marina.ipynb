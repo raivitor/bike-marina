{
 "cells": [
  {
   "cell_type": "code",
   "execution_count": null,
   "metadata": {},
   "outputs": [],
   "source": [
    "!pip install tqdm pymongo"
   ]
  },
  {
   "cell_type": "code",
   "execution_count": null,
   "metadata": {},
   "outputs": [],
   "source": [
    "import json\n",
    "import requests\n",
    "import datetime\n",
    "import urllib.parse\n",
    "import pandas as pd\n",
    "from tqdm import tqdm\n",
    "from pprint import pprint\n",
    "from pymongo import MongoClient"
   ]
  },
  {
   "cell_type": "code",
   "execution_count": null,
   "metadata": {},
   "outputs": [],
   "source": [
    "'''\n",
    "site: https://painelhost.uol.com.br/myProducts.html\n",
    "email: reis.marina@gmail.com\n",
    "senha: moranGO21\n",
    "user do banco: rider\n",
    "senha do banco:mor@nGO21\n",
    "'''\n",
    "\n",
    "MONGO = {\n",
    "    'database': 'bike',\n",
    "    'username': 'rider',\n",
    "    'password': 'mor@nGO21',\n",
    "    'host': 'bike.mongodb.uhserver.com'\n",
    "}\n",
    "client = MongoClient(\n",
    "    'mongodb://{}:{}@{}/{}'.format(urllib.parse.quote(MONGO['username']), urllib.parse.quote(MONGO['password']), MONGO['host'], MONGO['database']))\n",
    "\n",
    "db = client.bike\n",
    "table_horarios = db.horarios"
   ]
  },
  {
   "cell_type": "code",
   "execution_count": null,
   "metadata": {
    "collapsed": true
   },
   "outputs": [],
   "source": [
    "def teste(data):\n",
    "    arrStacao = []\n",
    "    for estacao in data[\"network\"][\"stations\"]:\n",
    "        dictSituacao = {\n",
    "            \"free_bikes\" : estacao[\"free_bikes\"],\n",
    "            \"empty_slots\" : estacao[\"empty_slots\"],\n",
    "            \"dia\" : estacao[\"timestamp\"][0:10],\n",
    "            \"hora\" : estacao[\"timestamp\"][11:19]\n",
    "        }\n",
    "        \n",
    "        if(estacao[\"empty_slots\"] == None):\n",
    "            estacao[\"empty_slots\"] = 0\n",
    "        if(estacao[\"free_bikes\"] == None):\n",
    "            estacao[\"free_bikes\"] = 0\n",
    "            \n",
    "        dictEstacao = {\n",
    "            \"lat\" : estacao[\"latitude\"],\n",
    "            \"lng\" : estacao[\"longitude\"],\n",
    "            \"nomeEstacao\" : estacao[\"name\"],\n",
    "            \"capacidade\" : int(estacao[\"empty_slots\"]) + int(estacao[\"free_bikes\"]),\n",
    "            \"id\" : estacao[\"id\"],\n",
    "            \"situacao\" : dictSituacao\n",
    "        }\n",
    "        arrStacao.append(dictEstacao)\n",
    "    try:\n",
    "        sistema = {\n",
    "            \"nomedoSistema\": data[\"network\"][\"name\"],\n",
    "            \"referencia\": data[\"network\"][\"href\"],\n",
    "            \"cidade\": data[\"network\"][\"location\"][\"city\"],\n",
    "            \"pais\": data[\"network\"][\"location\"][\"country\"],\n",
    "            \"operador\": data[\"network\"][\"company\"],\n",
    "            \"estacao\": arrStacao\n",
    "        }\n",
    "    finally:\n",
    "        return sistema\n",
    "    #print (sistema)"
   ]
  },
  {
   "cell_type": "code",
   "execution_count": null,
   "metadata": {},
   "outputs": [],
   "source": [
    "while True:\n",
    "    with open('bike-new-age.json') as data_file:    \n",
    "        linksAll = json.load(data_file)\n",
    "\n",
    "    listAll = []\n",
    "    for i, href in zip(tqdm(range(len(linksAll[\"networks\"]))), linksAll[\"networks\"]):\n",
    "        responseSistema = requests.get(\"https://api.citybik.es\"+href[\"href\"])\n",
    "        data = responseSistema.json()\n",
    "        saveData = teste(data)\n",
    "        table_horarios.insert_one(saveData)\n",
    "        listAll.append(saveData)\n",
    "        #print(listAll)\n",
    "        #break"
   ]
  }
 ],
 "metadata": {
  "kernelspec": {
   "display_name": "Python 3",
   "language": "python",
   "name": "python3"
  },
  "language_info": {
   "codemirror_mode": {
    "name": "ipython",
    "version": 3
   },
   "file_extension": ".py",
   "mimetype": "text/x-python",
   "name": "python",
   "nbconvert_exporter": "python",
   "pygments_lexer": "ipython3",
   "version": "3.6.1"
  }
 },
 "nbformat": 4,
 "nbformat_minor": 2
}
