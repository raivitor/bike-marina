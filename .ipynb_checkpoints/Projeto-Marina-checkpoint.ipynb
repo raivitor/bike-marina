{
 "cells": [
  {
   "cell_type": "code",
   "execution_count": null,
   "metadata": {},
   "outputs": [],
   "source": [
    "!pip install tqdm pymongo"
   ]
  },
  {
   "cell_type": "code",
   "execution_count": null,
   "metadata": {
    "collapsed": true
   },
   "outputs": [],
   "source": [
    "import sys\n",
    "import json\n",
    "\n",
    "import requests\n",
    "import datetime\n",
    "import urllib.parse\n",
    "import pandas as pd\n",
    "from tqdm import tnrange, tqdm_notebook\n",
    "from pprint import pprint\n",
    "from pymongo import MongoClient"
   ]
  },
  {
   "cell_type": "code",
   "execution_count": null,
   "metadata": {
    "collapsed": true
   },
   "outputs": [],
   "source": [
    "'''\n",
    "site: https://painelhost.uol.com.br/myProducts.html\n",
    "email: reis.marina@gmail.com\n",
    "senha: moranGO21\n",
    "user do banco: rider\n",
    "senha do banco:mor@nGO21\n",
    "'''\n",
    "\n",
    "MONGO = {\n",
    "    'database': 'bike',\n",
    "    'username': 'rider',\n",
    "    'password': 'mor@nGO21',\n",
    "    'host': 'bike.mongodb.uhserver.com'\n",
    "}\n",
    "client = MongoClient(\n",
    "    'mongodb://{}:{}@{}/{}'.format(urllib.parse.quote(MONGO['username']), urllib.parse.quote(MONGO['password']), MONGO['host'], MONGO['database']))\n",
    "\n",
    "db = client.bike\n",
    "table_horarios = db.horarios"
   ]
  },
  {
   "cell_type": "code",
   "execution_count": null,
   "metadata": {
    "collapsed": true
   },
   "outputs": [],
   "source": [
    "def TratarDados(data):\n",
    "    arrStacao = []\n",
    "    for estacao in data[\"network\"][\"stations\"]:\n",
    "        dictSituacao = {\n",
    "            \"free_bikes\" : estacao[\"free_bikes\"],\n",
    "            \"empty_slots\" : estacao[\"empty_slots\"],\n",
    "            \"dia\" : estacao[\"timestamp\"][0:10],\n",
    "            \"hora\" : estacao[\"timestamp\"][11:19]\n",
    "        }\n",
    "        \n",
    "        if(estacao[\"empty_slots\"] == None):\n",
    "            estacao[\"empty_slots\"] = 0\n",
    "        if(estacao[\"free_bikes\"] == None):\n",
    "            estacao[\"free_bikes\"] = 0\n",
    "            \n",
    "        dictEstacao = {\n",
    "            \"lat\" : estacao[\"latitude\"],\n",
    "            \"lng\" : estacao[\"longitude\"],\n",
    "            \"nomeEstacao\" : estacao[\"name\"],\n",
    "            \"capacidade\" : int(estacao[\"empty_slots\"]) + int(estacao[\"free_bikes\"]),\n",
    "            \"id\" : estacao[\"id\"],\n",
    "            \"situacao\" : dictSituacao\n",
    "        }\n",
    "        arrStacao.append(dictEstacao)\n",
    "    try:\n",
    "        sistema = {\n",
    "            \"nomedoSistema\": data[\"network\"][\"name\"],\n",
    "            \"referencia\": data[\"network\"][\"href\"],\n",
    "            \"cidade\": data[\"network\"][\"location\"][\"city\"],\n",
    "            \"pais\": data[\"network\"][\"location\"][\"country\"],\n",
    "            \"operador\": data[\"network\"][\"company\"],\n",
    "            \"estacao\": arrStacao\n",
    "        }\n",
    "    except:\n",
    "        print (\"Erro no método TratarDados\")\n",
    "        print (\"Unexpected error:\", sys.exc_info()[0])\n",
    "    finally:\n",
    "        return sistema"
   ]
  },
  {
   "cell_type": "code",
   "execution_count": null,
   "metadata": {},
   "outputs": [],
   "source": [
    "with open('bike-new-age.json') as data_file:    \n",
    "    linksAll = json.load(data_file)\n",
    "    \n",
    "flag = True\n",
    "while flag:\n",
    "    for i, href in zip(tqdm_notebook(range(len(linksAll[\"networks\"]))), linksAll[\"networks\"]):\n",
    "    #for href in linksAll[\"networks\"]:\n",
    "        try:\n",
    "            responseSistema = requests.get(\"https://api.citybik.es\"+href[\"href\"])\n",
    "            api_json = responseSistema.json()\n",
    "            dados_json = TratarDados(api_json)\n",
    "            table_horarios.insert_one(dados_json)\n",
    "        except ValueError:\n",
    "            print(href[\"href\"])\n",
    "            flag = False\n",
    "            break\n",
    "        except:\n",
    "            print (\"Unexpected error:\", sys.exc_info()[0])\n",
    "            #flag = False\n",
    "            #break"
   ]
  }
 ],
 "metadata": {
  "kernelspec": {
   "display_name": "Python 3",
   "language": "python",
   "name": "python3"
  },
  "language_info": {
   "codemirror_mode": {
    "name": "ipython",
    "version": 3
   },
   "file_extension": ".py",
   "mimetype": "text/x-python",
   "name": "python",
   "nbconvert_exporter": "python",
   "pygments_lexer": "ipython3",
   "version": "3.6.1"
  }
 },
 "nbformat": 4,
 "nbformat_minor": 2
}
